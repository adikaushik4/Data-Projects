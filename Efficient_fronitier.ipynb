{
 "cells": [
  {
   "cell_type": "code",
   "execution_count": 3,
   "metadata": {},
   "outputs": [],
   "source": [
    "# Importing libary modules\n",
    "import numpy as np\n",
    "import pandas as pd\n",
    "import matplotlib.pyplot as plt\n",
    "import seaborn as sns\n",
    "import yfinance as yf"
   ]
  },
  {
   "cell_type": "code",
   "execution_count": 5,
   "metadata": {},
   "outputs": [
    {
     "name": "stderr",
     "output_type": "stream",
     "text": [
      "[*********************100%***********************]  3 of 3 completed\n"
     ]
    },
    {
     "data": {
      "text/html": [
       "<div>\n",
       "<style scoped>\n",
       "    .dataframe tbody tr th:only-of-type {\n",
       "        vertical-align: middle;\n",
       "    }\n",
       "\n",
       "    .dataframe tbody tr th {\n",
       "        vertical-align: top;\n",
       "    }\n",
       "\n",
       "    .dataframe thead th {\n",
       "        text-align: right;\n",
       "    }\n",
       "</style>\n",
       "<table border=\"1\" class=\"dataframe\">\n",
       "  <thead>\n",
       "    <tr style=\"text-align: right;\">\n",
       "      <th>Ticker</th>\n",
       "      <th>KO</th>\n",
       "      <th>MSFT</th>\n",
       "      <th>TSLA</th>\n",
       "    </tr>\n",
       "    <tr>\n",
       "      <th>Date</th>\n",
       "      <th></th>\n",
       "      <th></th>\n",
       "      <th></th>\n",
       "    </tr>\n",
       "  </thead>\n",
       "  <tbody>\n",
       "    <tr>\n",
       "      <th>2017-01-03</th>\n",
       "      <td>32.210194</td>\n",
       "      <td>56.601131</td>\n",
       "      <td>14.466000</td>\n",
       "    </tr>\n",
       "    <tr>\n",
       "      <th>2017-01-04</th>\n",
       "      <td>32.094612</td>\n",
       "      <td>56.347881</td>\n",
       "      <td>15.132667</td>\n",
       "    </tr>\n",
       "    <tr>\n",
       "      <th>2017-01-05</th>\n",
       "      <td>32.171665</td>\n",
       "      <td>56.347881</td>\n",
       "      <td>15.116667</td>\n",
       "    </tr>\n",
       "    <tr>\n",
       "      <th>2017-01-06</th>\n",
       "      <td>32.163967</td>\n",
       "      <td>56.836288</td>\n",
       "      <td>15.267333</td>\n",
       "    </tr>\n",
       "    <tr>\n",
       "      <th>2017-01-09</th>\n",
       "      <td>31.840324</td>\n",
       "      <td>56.655396</td>\n",
       "      <td>15.418667</td>\n",
       "    </tr>\n",
       "    <tr>\n",
       "      <th>...</th>\n",
       "      <td>...</td>\n",
       "      <td>...</td>\n",
       "      <td>...</td>\n",
       "    </tr>\n",
       "    <tr>\n",
       "      <th>2025-03-28</th>\n",
       "      <td>70.370003</td>\n",
       "      <td>378.799988</td>\n",
       "      <td>263.549988</td>\n",
       "    </tr>\n",
       "    <tr>\n",
       "      <th>2025-03-31</th>\n",
       "      <td>71.620003</td>\n",
       "      <td>375.390015</td>\n",
       "      <td>259.160004</td>\n",
       "    </tr>\n",
       "    <tr>\n",
       "      <th>2025-04-01</th>\n",
       "      <td>71.870003</td>\n",
       "      <td>382.190002</td>\n",
       "      <td>268.459991</td>\n",
       "    </tr>\n",
       "    <tr>\n",
       "      <th>2025-04-02</th>\n",
       "      <td>71.330002</td>\n",
       "      <td>382.140015</td>\n",
       "      <td>282.760010</td>\n",
       "    </tr>\n",
       "    <tr>\n",
       "      <th>2025-04-03</th>\n",
       "      <td>73.315002</td>\n",
       "      <td>375.450012</td>\n",
       "      <td>268.885010</td>\n",
       "    </tr>\n",
       "  </tbody>\n",
       "</table>\n",
       "<p>2075 rows × 3 columns</p>\n",
       "</div>"
      ],
      "text/plain": [
       "Ticker             KO        MSFT        TSLA\n",
       "Date                                         \n",
       "2017-01-03  32.210194   56.601131   14.466000\n",
       "2017-01-04  32.094612   56.347881   15.132667\n",
       "2017-01-05  32.171665   56.347881   15.116667\n",
       "2017-01-06  32.163967   56.836288   15.267333\n",
       "2017-01-09  31.840324   56.655396   15.418667\n",
       "...               ...         ...         ...\n",
       "2025-03-28  70.370003  378.799988  263.549988\n",
       "2025-03-31  71.620003  375.390015  259.160004\n",
       "2025-04-01  71.870003  382.190002  268.459991\n",
       "2025-04-02  71.330002  382.140015  282.760010\n",
       "2025-04-03  73.315002  375.450012  268.885010\n",
       "\n",
       "[2075 rows x 3 columns]"
      ]
     },
     "execution_count": 5,
     "metadata": {},
     "output_type": "execute_result"
    }
   ],
   "source": [
    "df = yf.download(['MSFT', 'KO', 'TSLA'], start='2017-01-01', auto_adjust=False)['Adj Close']\n",
    "df"
   ]
  },
  {
   "cell_type": "code",
   "execution_count": 7,
   "metadata": {},
   "outputs": [],
   "source": [
    "ret_df = df.pct_change()\n",
    "ret_df.dropna(inplace=True)"
   ]
  },
  {
   "cell_type": "markdown",
   "metadata": {},
   "source": [
    "Note: We are working on the assumption that our portfolio is divided into only 3 stocks"
   ]
  },
  {
   "cell_type": "markdown",
   "metadata": {},
   "source": [
    "Defining a function to assign Weight vector"
   ]
  },
  {
   "cell_type": "code",
   "execution_count": null,
   "metadata": {},
   "outputs": [
    {
     "data": {
      "text/plain": [
       "array([0.36293195, 0.04939799, 0.58767006])"
      ]
     },
     "execution_count": 10,
     "metadata": {},
     "output_type": "execute_result"
    }
   ],
   "source": [
    "def give_weights():\n",
    "    rand = np.random.random(len(df.columns))\n",
    "    rand /= rand.sum()\n",
    "    return rand\n",
    "\n",
    "## This function always calls the array of 3 in random\n",
    "## Count of array is taken based on the columns of our Dataframe\n",
    "give_weights()\n",
    "\n"
   ]
  },
  {
   "cell_type": "code",
   "execution_count": 12,
   "metadata": {},
   "outputs": [],
   "source": [
    "pf_exp, pf_stds, weights = [], [], []\n",
    "\n",
    "for i in range(2000):\n",
    "    W = give_weights()\n",
    "    weights.append(W)\n",
    "    pf_exp.append(W.dot(ret_df.mean()) *252)\n",
    "    pf_stds.append(W.dot(ret_df.cov().dot(W)) *252)\n",
    "\n",
    "# We are taking 252 since most stocks are atrded on 252 days in an year"
   ]
  },
  {
   "cell_type": "code",
   "execution_count": 13,
   "metadata": {},
   "outputs": [
    {
     "data": {
      "text/plain": [
       "2000"
      ]
     },
     "execution_count": 13,
     "metadata": {},
     "output_type": "execute_result"
    }
   ],
   "source": [
    "len(pf_exp)"
   ]
  },
  {
   "cell_type": "markdown",
   "metadata": {},
   "source": [
    "Next we will take the lists from above variables and convert them into Dataframes for the lucidity of the content."
   ]
  },
  {
   "cell_type": "code",
   "execution_count": 14,
   "metadata": {},
   "outputs": [],
   "source": [
    "tog = pd.DataFrame({'pf_exp':pf_exp, 'pf_stds':pf_stds, 'weights':weights})"
   ]
  },
  {
   "cell_type": "code",
   "execution_count": 15,
   "metadata": {},
   "outputs": [
    {
     "data": {
      "text/html": [
       "<div>\n",
       "<style scoped>\n",
       "    .dataframe tbody tr th:only-of-type {\n",
       "        vertical-align: middle;\n",
       "    }\n",
       "\n",
       "    .dataframe tbody tr th {\n",
       "        vertical-align: top;\n",
       "    }\n",
       "\n",
       "    .dataframe thead th {\n",
       "        text-align: right;\n",
       "    }\n",
       "</style>\n",
       "<table border=\"1\" class=\"dataframe\">\n",
       "  <thead>\n",
       "    <tr style=\"text-align: right;\">\n",
       "      <th></th>\n",
       "      <th>pf_exp</th>\n",
       "      <th>pf_stds</th>\n",
       "      <th>weights</th>\n",
       "    </tr>\n",
       "  </thead>\n",
       "  <tbody>\n",
       "    <tr>\n",
       "      <th>0</th>\n",
       "      <td>0.230833</td>\n",
       "      <td>0.042202</td>\n",
       "      <td>[0.4492399713679283, 0.4392034320342572, 0.111...</td>\n",
       "    </tr>\n",
       "    <tr>\n",
       "      <th>1</th>\n",
       "      <td>0.455807</td>\n",
       "      <td>0.221031</td>\n",
       "      <td>[0.05475045633223509, 0.23024395409865425, 0.7...</td>\n",
       "    </tr>\n",
       "    <tr>\n",
       "      <th>2</th>\n",
       "      <td>0.311844</td>\n",
       "      <td>0.092283</td>\n",
       "      <td>[0.50555647719202, 0.05697496453475021, 0.4374...</td>\n",
       "    </tr>\n",
       "    <tr>\n",
       "      <th>3</th>\n",
       "      <td>0.430296</td>\n",
       "      <td>0.204248</td>\n",
       "      <td>[0.21647079021889667, 0.07289651683613879, 0.7...</td>\n",
       "    </tr>\n",
       "    <tr>\n",
       "      <th>4</th>\n",
       "      <td>0.399702</td>\n",
       "      <td>0.143028</td>\n",
       "      <td>[0.013147281788143741, 0.4989849470573405, 0.4...</td>\n",
       "    </tr>\n",
       "    <tr>\n",
       "      <th>...</th>\n",
       "      <td>...</td>\n",
       "      <td>...</td>\n",
       "      <td>...</td>\n",
       "    </tr>\n",
       "    <tr>\n",
       "      <th>1995</th>\n",
       "      <td>0.268871</td>\n",
       "      <td>0.055476</td>\n",
       "      <td>[0.4100309187085225, 0.36133112085551494, 0.22...</td>\n",
       "    </tr>\n",
       "    <tr>\n",
       "      <th>1996</th>\n",
       "      <td>0.343489</td>\n",
       "      <td>0.096777</td>\n",
       "      <td>[0.15959531234341018, 0.4771026869597292, 0.36...</td>\n",
       "    </tr>\n",
       "    <tr>\n",
       "      <th>1997</th>\n",
       "      <td>0.309696</td>\n",
       "      <td>0.076009</td>\n",
       "      <td>[0.2889511176014158, 0.4000060420426375, 0.311...</td>\n",
       "    </tr>\n",
       "    <tr>\n",
       "      <th>1998</th>\n",
       "      <td>0.302282</td>\n",
       "      <td>0.084595</td>\n",
       "      <td>[0.5168712912040726, 0.0742961339632457, 0.408...</td>\n",
       "    </tr>\n",
       "    <tr>\n",
       "      <th>1999</th>\n",
       "      <td>0.303475</td>\n",
       "      <td>0.071436</td>\n",
       "      <td>[0.25377012431077767, 0.47711014845442157, 0.2...</td>\n",
       "    </tr>\n",
       "  </tbody>\n",
       "</table>\n",
       "<p>2000 rows × 3 columns</p>\n",
       "</div>"
      ],
      "text/plain": [
       "        pf_exp   pf_stds                                            weights\n",
       "0     0.230833  0.042202  [0.4492399713679283, 0.4392034320342572, 0.111...\n",
       "1     0.455807  0.221031  [0.05475045633223509, 0.23024395409865425, 0.7...\n",
       "2     0.311844  0.092283  [0.50555647719202, 0.05697496453475021, 0.4374...\n",
       "3     0.430296  0.204248  [0.21647079021889667, 0.07289651683613879, 0.7...\n",
       "4     0.399702  0.143028  [0.013147281788143741, 0.4989849470573405, 0.4...\n",
       "...        ...       ...                                                ...\n",
       "1995  0.268871  0.055476  [0.4100309187085225, 0.36133112085551494, 0.22...\n",
       "1996  0.343489  0.096777  [0.15959531234341018, 0.4771026869597292, 0.36...\n",
       "1997  0.309696  0.076009  [0.2889511176014158, 0.4000060420426375, 0.311...\n",
       "1998  0.302282  0.084595  [0.5168712912040726, 0.0742961339632457, 0.408...\n",
       "1999  0.303475  0.071436  [0.25377012431077767, 0.47711014845442157, 0.2...\n",
       "\n",
       "[2000 rows x 3 columns]"
      ]
     },
     "execution_count": 15,
     "metadata": {},
     "output_type": "execute_result"
    }
   ],
   "source": [
    "tog"
   ]
  },
  {
   "cell_type": "code",
   "execution_count": null,
   "metadata": {},
   "outputs": [
    {
     "data": {
      "text/plain": [
       "<Axes: xlabel='pf_stds', ylabel='pf_exp'>"
      ]
     },
     "execution_count": 16,
     "metadata": {},
     "output_type": "execute_result"
    },
    {
     "data": {
      "image/png": "[encoded data removed]",
      "text/plain": [
       "<Figure size 640x480 with 1 Axes>"
      ]
     },
     "metadata": {},
     "output_type": "display_data"
    }
   ],
   "source": [
    "tog.plot(x='pf_stds', y='pf_exp', kind='scatter', hue= ) "
   ]
  },
  {
   "cell_type": "code",
   "execution_count": 17,
   "metadata": {},
   "outputs": [],
   "source": [
    "# now let's find the maximum Sharpe ratio\n",
    "sharpes = tog.pf_exp/tog.pf_stds"
   ]
  },
  {
   "cell_type": "code",
   "execution_count": 19,
   "metadata": {},
   "outputs": [
    {
     "data": {
      "text/plain": [
       "Index([380], dtype='int64')"
      ]
     },
     "execution_count": 19,
     "metadata": {},
     "output_type": "execute_result"
    }
   ],
   "source": [
    "sharpes.nlargest(1).index"
   ]
  },
  {
   "cell_type": "code",
   "execution_count": 20,
   "metadata": {},
   "outputs": [
    {
     "data": {
      "text/html": [
       "<div>\n",
       "<style scoped>\n",
       "    .dataframe tbody tr th:only-of-type {\n",
       "        vertical-align: middle;\n",
       "    }\n",
       "\n",
       "    .dataframe tbody tr th {\n",
       "        vertical-align: top;\n",
       "    }\n",
       "\n",
       "    .dataframe thead th {\n",
       "        text-align: right;\n",
       "    }\n",
       "</style>\n",
       "<table border=\"1\" class=\"dataframe\">\n",
       "  <thead>\n",
       "    <tr style=\"text-align: right;\">\n",
       "      <th></th>\n",
       "      <th>pf_exp</th>\n",
       "      <th>pf_stds</th>\n",
       "      <th>weights</th>\n",
       "    </tr>\n",
       "  </thead>\n",
       "  <tbody>\n",
       "    <tr>\n",
       "      <th>380</th>\n",
       "      <td>0.204766</td>\n",
       "      <td>0.035911</td>\n",
       "      <td>[0.5942784311532463, 0.30969889869387934, 0.09...</td>\n",
       "    </tr>\n",
       "  </tbody>\n",
       "</table>\n",
       "</div>"
      ],
      "text/plain": [
       "       pf_exp   pf_stds                                            weights\n",
       "380  0.204766  0.035911  [0.5942784311532463, 0.30969889869387934, 0.09..."
      ]
     },
     "execution_count": 20,
     "metadata": {},
     "output_type": "execute_result"
    }
   ],
   "source": [
    "tog.loc[sharpes.nlargest(1).index]"
   ]
  },
  {
   "cell_type": "code",
   "execution_count": 21,
   "metadata": {},
   "outputs": [
    {
     "data": {
      "text/html": [
       "<div>\n",
       "<style scoped>\n",
       "    .dataframe tbody tr th:only-of-type {\n",
       "        vertical-align: middle;\n",
       "    }\n",
       "\n",
       "    .dataframe tbody tr th {\n",
       "        vertical-align: top;\n",
       "    }\n",
       "\n",
       "    .dataframe thead th {\n",
       "        text-align: right;\n",
       "    }\n",
       "</style>\n",
       "<table border=\"1\" class=\"dataframe\">\n",
       "  <thead>\n",
       "    <tr style=\"text-align: right;\">\n",
       "      <th></th>\n",
       "      <th>pf_exp</th>\n",
       "      <th>pf_stds</th>\n",
       "      <th>weights</th>\n",
       "    </tr>\n",
       "  </thead>\n",
       "  <tbody>\n",
       "    <tr>\n",
       "      <th>1059</th>\n",
       "      <td>0.149497</td>\n",
       "      <td>0.03132</td>\n",
       "      <td>[0.8072152291019845, 0.18148345139298885, 0.01...</td>\n",
       "    </tr>\n",
       "  </tbody>\n",
       "</table>\n",
       "</div>"
      ],
      "text/plain": [
       "        pf_exp  pf_stds                                            weights\n",
       "1059  0.149497  0.03132  [0.8072152291019845, 0.18148345139298885, 0.01..."
      ]
     },
     "execution_count": 21,
     "metadata": {},
     "output_type": "execute_result"
    }
   ],
   "source": [
    "# Minimum variance of the portfolio\n",
    "\n",
    "tog.nsmallest(1, 'pf_stds')"
   ]
  },
  {
   "cell_type": "code",
   "execution_count": 24,
   "metadata": {},
   "outputs": [
    {
     "data": {
      "image/png": "[encoded data removed]",
      "text/plain": [
       "<Figure size 640x480 with 1 Axes>"
      ]
     },
     "metadata": {},
     "output_type": "display_data"
    }
   ],
   "source": [
    "# Lets' plot the point\n",
    "index = 380\n",
    "import seaborn as sns\n",
    "\n",
    "# Scatter plot with hue for all points\n",
    "sns.scatterplot(data=tog, x='pf_stds', y='pf_exp', hue='pf_exp', palette='coolwarm', alpha=0.6)\n",
    "\n",
    "# Highlighting the specific point\n",
    "plt.scatter(tog.loc[index, 'pf_stds'], tog.loc[index, 'pf_exp'], color='red', s=100, edgecolors='black')\n",
    "\n",
    "# Label\n",
    "plt.text(tog.loc[index, 'pf_stds'], tog.loc[index, 'pf_exp'], '  Index 380', verticalalignment='bottom')\n",
    "\n",
    "plt.show()\n"
   ]
  },
  {
   "cell_type": "code",
   "execution_count": null,
   "metadata": {},
   "outputs": [],
   "source": []
  }
 ],
 "metadata": {
  "kernelspec": {
   "display_name": "Python 3",
   "language": "python",
   "name": "python3"
  },
  "language_info": {
   "codemirror_mode": {
    "name": "ipython",
    "version": 3
   },
   "file_extension": ".py",
   "mimetype": "text/x-python",
   "name": "python",
   "nbconvert_exporter": "python",
   "pygments_lexer": "ipython3",
   "version": "3.12.3"
  }
 },
 "nbformat": 4,
 "nbformat_minor": 2
}
