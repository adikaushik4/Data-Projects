{
 "cells": [
  {
   "cell_type": "markdown",
   "id": "876e6753",
   "metadata": {},
   "source": [
    "### Intro to Streamlit and building dashboard\n",
    "\n",
    "Streamlit is an open-source framework for rapid prototyping and the creation of visualizations and dashboards in Python without the need for knowledge of front-end technologies such as JS or HTML.\n",
    "\n",
    "It is mainly used to develop simple web applications to demonstrate the operation of machine learning models, algorithms, or display data. It has quite a few predefined widgets for entering parameters and presenting various data types - from text to images to audio. These elements are defined in JS, but have an easy interface in Python. "
   ]
  },
  {
   "cell_type": "code",
   "execution_count": 1,
   "id": "6b68f2b7",
   "metadata": {},
   "outputs": [],
   "source": [
    "import yfinance as yf\n",
    "import numpy as np\n",
    "import pandas as pd\n",
    "import streamlit as st"
   ]
  },
  {
   "cell_type": "code",
   "execution_count": 2,
   "id": "75e93e50",
   "metadata": {},
   "outputs": [],
   "source": [
    "url = 'https://en.wikipedia.org/wiki/NASDAQ-100'\n",
    "tables = pd.read_html(url)\n"
   ]
  },
  {
   "cell_type": "code",
   "execution_count": 5,
   "id": "90cbc730",
   "metadata": {},
   "outputs": [
    {
     "name": "stdout",
     "output_type": "stream",
     "text": [
      "Table 0 columns: Index([0, 1], dtype='int64')\n",
      "Table 1 columns: Index(['Category', 'All-Time Highs[9]', 'All-Time Highs[9].1'], dtype='object')\n",
      "Table 2 columns: Index(['Milestone[10] (closing)', 'Date of Record (closing)[10]',\n",
      "       'Trading Days[10]'],\n",
      "      dtype='object')\n",
      "Table 3 columns: Index(['Year', 'Closing level', 'Change in Index in Points',\n",
      "       'Change in Index in %'],\n",
      "      dtype='object')\n",
      "Table 4 columns: Index(['Company', 'Ticker', 'GICS Sector', 'GICS Sub-Industry'], dtype='object')\n",
      "Table 5 columns: Index(['vteCompanies of the Nasdaq-100 index', 'vteCompanies of the Nasdaq-100 index.1'], dtype='object')\n",
      "Table 6 columns: Index(['vteNasdaq, Inc.', 'vteNasdaq, Inc..1', 'vteNasdaq, Inc..2'], dtype='object')\n",
      "Table 7 columns: Index(['vteStock market indices', 'vteStock market indices.1'], dtype='object')\n",
      "Table 8 columns: Index([0, 1], dtype='int64')\n",
      "Table 9 columns: Index([0, 1], dtype='int64')\n",
      "Table 10 columns: Index([0, 1], dtype='int64')\n",
      "Table 11 columns: Index([0, 1], dtype='int64')\n",
      "Table 12 columns: Index([0, 1], dtype='int64')\n",
      "Table 13 columns: Index([0, 1], dtype='int64')\n",
      "Table 14 columns: Index([0, 1], dtype='int64')\n",
      "Table 15 columns: Index([0, 1], dtype='int64')\n",
      "Table 16 columns: Index(['vteMajor United States stock market indices', 'vteMajor United States stock market indices.1'], dtype='object')\n",
      "Table 17 columns: Index(['vteMajor North and South American stock market indices', 'vteMajor North and South American stock market indices.1'], dtype='object')\n"
     ]
    }
   ],
   "source": [
    "\n",
    "\n",
    "for i, table in enumerate(tables):\n",
    "    print(f\"Table {i} columns: {table.columns}\")"
   ]
  }
 ],
 "metadata": {
  "kernelspec": {
   "display_name": "Python 3",
   "language": "python",
   "name": "python3"
  },
  "language_info": {
   "codemirror_mode": {
    "name": "ipython",
    "version": 3
   },
   "file_extension": ".py",
   "mimetype": "text/x-python",
   "name": "python",
   "nbconvert_exporter": "python",
   "pygments_lexer": "ipython3",
   "version": "3.12.3"
  }
 },
 "nbformat": 4,
 "nbformat_minor": 5
}
