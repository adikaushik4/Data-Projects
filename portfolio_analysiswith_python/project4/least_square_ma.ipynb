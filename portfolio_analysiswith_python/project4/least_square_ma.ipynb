{
 "cells": [
  {
   "cell_type": "markdown",
   "id": "a4de2d93",
   "metadata": {},
   "source": [
    "### Least square moving average\n",
    "It is calculated using the least-squares regression analysis method, which involves finding the line of best fit through a set of price data points. This line is then used to calculate the moving average, which provides traders with an indication of the direction of the trend.\n",
    "\n",
    "Best fit line: In linear regression, the \"best fit line\" (also known as the regression line or line of best fit) is a straight line that best represents the relationship between a dependent variable (y) and one or more independent variables (x).\n",
    "\n"
   ]
  },
  {
   "cell_type": "code",
   "execution_count": 8,
   "id": "e7182593",
   "metadata": {},
   "outputs": [],
   "source": [
    "# importing libnaries\n",
    "import yfinance as yf\n",
    "import numpy as np\n",
    "import pandas as pd\n",
    "import matplotlib.pyplot as plt\n",
    "from sklearn.model_selection import train_test_split\n",
    "import statsmodels.api as sm"
   ]
  },
  {
   "cell_type": "markdown",
   "id": "c7d7c7ef",
   "metadata": {},
   "source": [
    "Dependent variable, X: 'Day1', 'Day2',....\n",
    "\n",
    "Indpendent variable, y: 'Close Price'"
   ]
  },
  {
   "cell_type": "code",
   "execution_count": 9,
   "id": "e918b2ce",
   "metadata": {},
   "outputs": [
    {
     "name": "stdout",
     "output_type": "stream",
     "text": [
      "YF.download() has changed argument auto_adjust default to True\n"
     ]
    },
    {
     "name": "stderr",
     "output_type": "stream",
     "text": [
      "[*********************100%***********************]  1 of 1 completed\n"
     ]
    }
   ],
   "source": [
    "# Fetching the data\n",
    "data = yf.download('PLTR', start= '2020-01-01')"
   ]
  },
  {
   "cell_type": "code",
   "execution_count": 10,
   "metadata": {},
   "outputs": [],
   "source": [
    "window = 25\n",
    "\n",
    "test_df = data[:window]"
   ]
  },
  {
   "cell_type": "code",
   "execution_count": 11,
   "id": "268afd80",
   "metadata": {},
   "outputs": [
    {
     "data": {
      "text/plain": [
       "(25, 5)"
      ]
     },
     "execution_count": 11,
     "metadata": {},
     "output_type": "execute_result"
    }
   ],
   "source": [
    "# Shape or the test data\n",
    "test_df.shape"
   ]
  },
  {
   "cell_type": "code",
   "execution_count": 14,
   "id": "4c1587d9",
   "metadata": {},
   "outputs": [
    {
     "data": {
      "text/html": [
       "<div>\n",
       "<style scoped>\n",
       "    .dataframe tbody tr th:only-of-type {\n",
       "        vertical-align: middle;\n",
       "    }\n",
       "\n",
       "    .dataframe tbody tr th {\n",
       "        vertical-align: top;\n",
       "    }\n",
       "\n",
       "    .dataframe thead th {\n",
       "        text-align: right;\n",
       "    }\n",
       "</style>\n",
       "<table border=\"1\" class=\"dataframe\">\n",
       "  <thead>\n",
       "    <tr style=\"text-align: right;\">\n",
       "      <th>Ticker</th>\n",
       "      <th>PLTR</th>\n",
       "    </tr>\n",
       "    <tr>\n",
       "      <th>Date</th>\n",
       "      <th></th>\n",
       "    </tr>\n",
       "  </thead>\n",
       "  <tbody>\n",
       "    <tr>\n",
       "      <th>2020-09-30</th>\n",
       "      <td>9.50</td>\n",
       "    </tr>\n",
       "    <tr>\n",
       "      <th>2020-10-01</th>\n",
       "      <td>9.46</td>\n",
       "    </tr>\n",
       "    <tr>\n",
       "      <th>2020-10-02</th>\n",
       "      <td>9.20</td>\n",
       "    </tr>\n",
       "    <tr>\n",
       "      <th>2020-10-05</th>\n",
       "      <td>9.03</td>\n",
       "    </tr>\n",
       "    <tr>\n",
       "      <th>2020-10-06</th>\n",
       "      <td>9.90</td>\n",
       "    </tr>\n",
       "    <tr>\n",
       "      <th>2020-10-07</th>\n",
       "      <td>10.00</td>\n",
       "    </tr>\n",
       "    <tr>\n",
       "      <th>2020-10-08</th>\n",
       "      <td>10.00</td>\n",
       "    </tr>\n",
       "    <tr>\n",
       "      <th>2020-10-09</th>\n",
       "      <td>9.95</td>\n",
       "    </tr>\n",
       "    <tr>\n",
       "      <th>2020-10-12</th>\n",
       "      <td>9.89</td>\n",
       "    </tr>\n",
       "    <tr>\n",
       "      <th>2020-10-13</th>\n",
       "      <td>9.47</td>\n",
       "    </tr>\n",
       "    <tr>\n",
       "      <th>2020-10-14</th>\n",
       "      <td>9.34</td>\n",
       "    </tr>\n",
       "    <tr>\n",
       "      <th>2020-10-15</th>\n",
       "      <td>9.91</td>\n",
       "    </tr>\n",
       "    <tr>\n",
       "      <th>2020-10-16</th>\n",
       "      <td>9.71</td>\n",
       "    </tr>\n",
       "    <tr>\n",
       "      <th>2020-10-19</th>\n",
       "      <td>9.57</td>\n",
       "    </tr>\n",
       "    <tr>\n",
       "      <th>2020-10-20</th>\n",
       "      <td>9.27</td>\n",
       "    </tr>\n",
       "    <tr>\n",
       "      <th>2020-10-21</th>\n",
       "      <td>9.20</td>\n",
       "    </tr>\n",
       "    <tr>\n",
       "      <th>2020-10-22</th>\n",
       "      <td>9.68</td>\n",
       "    </tr>\n",
       "    <tr>\n",
       "      <th>2020-10-23</th>\n",
       "      <td>9.49</td>\n",
       "    </tr>\n",
       "    <tr>\n",
       "      <th>2020-10-26</th>\n",
       "      <td>9.95</td>\n",
       "    </tr>\n",
       "    <tr>\n",
       "      <th>2020-10-27</th>\n",
       "      <td>10.95</td>\n",
       "    </tr>\n",
       "    <tr>\n",
       "      <th>2020-10-28</th>\n",
       "      <td>10.85</td>\n",
       "    </tr>\n",
       "    <tr>\n",
       "      <th>2020-10-29</th>\n",
       "      <td>10.75</td>\n",
       "    </tr>\n",
       "    <tr>\n",
       "      <th>2020-10-30</th>\n",
       "      <td>10.13</td>\n",
       "    </tr>\n",
       "    <tr>\n",
       "      <th>2020-11-02</th>\n",
       "      <td>10.54</td>\n",
       "    </tr>\n",
       "    <tr>\n",
       "      <th>2020-11-03</th>\n",
       "      <td>10.50</td>\n",
       "    </tr>\n",
       "  </tbody>\n",
       "</table>\n",
       "</div>"
      ],
      "text/plain": [
       "Ticker       PLTR\n",
       "Date             \n",
       "2020-09-30   9.50\n",
       "2020-10-01   9.46\n",
       "2020-10-02   9.20\n",
       "2020-10-05   9.03\n",
       "2020-10-06   9.90\n",
       "2020-10-07  10.00\n",
       "2020-10-08  10.00\n",
       "2020-10-09   9.95\n",
       "2020-10-12   9.89\n",
       "2020-10-13   9.47\n",
       "2020-10-14   9.34\n",
       "2020-10-15   9.91\n",
       "2020-10-16   9.71\n",
       "2020-10-19   9.57\n",
       "2020-10-20   9.27\n",
       "2020-10-21   9.20\n",
       "2020-10-22   9.68\n",
       "2020-10-23   9.49\n",
       "2020-10-26   9.95\n",
       "2020-10-27  10.95\n",
       "2020-10-28  10.85\n",
       "2020-10-29  10.75\n",
       "2020-10-30  10.13\n",
       "2020-11-02  10.54\n",
       "2020-11-03  10.50"
      ]
     },
     "execution_count": 14,
     "metadata": {},
     "output_type": "execute_result"
    }
   ],
   "source": [
    "# Assigning the dependent variable\n",
    "y_ = test_df['Close']\n",
    "y_"
   ]
  },
  {
   "cell_type": "code",
   "execution_count": 20,
   "id": "5816d7af",
   "metadata": {},
   "outputs": [],
   "source": [
    "# Independent variable\n",
    "X_ = pd.Series(range(len(test_df.index))).values"
   ]
  },
  {
   "cell_type": "code",
   "execution_count": 24,
   "id": "9b4792b5",
   "metadata": {},
   "outputs": [
    {
     "data": {
      "text/plain": [
       "const    9.312554\n",
       "x1       0.044754\n",
       "dtype: float64"
      ]
     },
     "execution_count": 24,
     "metadata": {},
     "output_type": "execute_result"
    }
   ],
   "source": [
    "model_ = sm.OLS(y_, sm.add_constant(X_)).fit()\n",
    "model_.params"
   ]
  },
  {
   "cell_type": "code",
   "execution_count": 26,
   "id": "786d495e",
   "metadata": {},
   "outputs": [
    {
     "data": {
      "text/html": [
       "<table class=\"simpletable\">\n",
       "<caption>OLS Regression Results</caption>\n",
       "<tr>\n",
       "  <th>Dep. Variable:</th>          <td>PLTR</td>       <th>  R-squared:         </th> <td>   0.380</td>\n",
       "</tr>\n",
       "<tr>\n",
       "  <th>Model:</th>                   <td>OLS</td>       <th>  Adj. R-squared:    </th> <td>   0.353</td>\n",
       "</tr>\n",
       "<tr>\n",
       "  <th>Method:</th>             <td>Least Squares</td>  <th>  F-statistic:       </th> <td>   14.07</td>\n",
       "</tr>\n",
       "<tr>\n",
       "  <th>Date:</th>             <td>Sun, 13 Apr 2025</td> <th>  Prob (F-statistic):</th>  <td>0.00104</td>\n",
       "</tr>\n",
       "<tr>\n",
       "  <th>Time:</th>                 <td>20:54:36</td>     <th>  Log-Likelihood:    </th> <td> -13.340</td>\n",
       "</tr>\n",
       "<tr>\n",
       "  <th>No. Observations:</th>      <td>    25</td>      <th>  AIC:               </th> <td>   30.68</td>\n",
       "</tr>\n",
       "<tr>\n",
       "  <th>Df Residuals:</th>          <td>    23</td>      <th>  BIC:               </th> <td>   33.12</td>\n",
       "</tr>\n",
       "<tr>\n",
       "  <th>Df Model:</th>              <td>     1</td>      <th>                     </th>     <td> </td>   \n",
       "</tr>\n",
       "<tr>\n",
       "  <th>Covariance Type:</th>      <td>nonrobust</td>    <th>                     </th>     <td> </td>   \n",
       "</tr>\n",
       "</table>\n",
       "<table class=\"simpletable\">\n",
       "<tr>\n",
       "    <td></td>       <th>coef</th>     <th>std err</th>      <th>t</th>      <th>P>|t|</th>  <th>[0.025</th>    <th>0.975]</th>  \n",
       "</tr>\n",
       "<tr>\n",
       "  <th>const</th> <td>    9.3126</td> <td>    0.167</td> <td>   55.758</td> <td> 0.000</td> <td>    8.967</td> <td>    9.658</td>\n",
       "</tr>\n",
       "<tr>\n",
       "  <th>x1</th>    <td>    0.0448</td> <td>    0.012</td> <td>    3.751</td> <td> 0.001</td> <td>    0.020</td> <td>    0.069</td>\n",
       "</tr>\n",
       "</table>\n",
       "<table class=\"simpletable\">\n",
       "<tr>\n",
       "  <th>Omnibus:</th>       <td> 1.136</td> <th>  Durbin-Watson:     </th> <td>   0.835</td>\n",
       "</tr>\n",
       "<tr>\n",
       "  <th>Prob(Omnibus):</th> <td> 0.567</td> <th>  Jarque-Bera (JB):  </th> <td>   0.838</td>\n",
       "</tr>\n",
       "<tr>\n",
       "  <th>Skew:</th>          <td>-0.033</td> <th>  Prob(JB):          </th> <td>   0.658</td>\n",
       "</tr>\n",
       "<tr>\n",
       "  <th>Kurtosis:</th>      <td> 2.106</td> <th>  Cond. No.          </th> <td>    27.3</td>\n",
       "</tr>\n",
       "</table><br/><br/>Notes:<br/>[1] Standard Errors assume that the covariance matrix of the errors is correctly specified."
      ],
      "text/latex": [
       "\\begin{center}\n",
       "\\begin{tabular}{lclc}\n",
       "\\toprule\n",
       "\\textbf{Dep. Variable:}    &       PLTR       & \\textbf{  R-squared:         } &     0.380   \\\\\n",
       "\\textbf{Model:}            &       OLS        & \\textbf{  Adj. R-squared:    } &     0.353   \\\\\n",
       "\\textbf{Method:}           &  Least Squares   & \\textbf{  F-statistic:       } &     14.07   \\\\\n",
       "\\textbf{Date:}             & Sun, 13 Apr 2025 & \\textbf{  Prob (F-statistic):} &  0.00104    \\\\\n",
       "\\textbf{Time:}             &     20:54:36     & \\textbf{  Log-Likelihood:    } &   -13.340   \\\\\n",
       "\\textbf{No. Observations:} &          25      & \\textbf{  AIC:               } &     30.68   \\\\\n",
       "\\textbf{Df Residuals:}     &          23      & \\textbf{  BIC:               } &     33.12   \\\\\n",
       "\\textbf{Df Model:}         &           1      & \\textbf{                     } &             \\\\\n",
       "\\textbf{Covariance Type:}  &    nonrobust     & \\textbf{                     } &             \\\\\n",
       "\\bottomrule\n",
       "\\end{tabular}\n",
       "\\begin{tabular}{lcccccc}\n",
       "               & \\textbf{coef} & \\textbf{std err} & \\textbf{t} & \\textbf{P$> |$t$|$} & \\textbf{[0.025} & \\textbf{0.975]}  \\\\\n",
       "\\midrule\n",
       "\\textbf{const} &       9.3126  &        0.167     &    55.758  &         0.000        &        8.967    &        9.658     \\\\\n",
       "\\textbf{x1}    &       0.0448  &        0.012     &     3.751  &         0.001        &        0.020    &        0.069     \\\\\n",
       "\\bottomrule\n",
       "\\end{tabular}\n",
       "\\begin{tabular}{lclc}\n",
       "\\textbf{Omnibus:}       &  1.136 & \\textbf{  Durbin-Watson:     } &    0.835  \\\\\n",
       "\\textbf{Prob(Omnibus):} &  0.567 & \\textbf{  Jarque-Bera (JB):  } &    0.838  \\\\\n",
       "\\textbf{Skew:}          & -0.033 & \\textbf{  Prob(JB):          } &    0.658  \\\\\n",
       "\\textbf{Kurtosis:}      &  2.106 & \\textbf{  Cond. No.          } &     27.3  \\\\\n",
       "\\bottomrule\n",
       "\\end{tabular}\n",
       "%\\caption{OLS Regression Results}\n",
       "\\end{center}\n",
       "\n",
       "Notes: \\newline\n",
       " [1] Standard Errors assume that the covariance matrix of the errors is correctly specified."
      ],
      "text/plain": [
       "<class 'statsmodels.iolib.summary.Summary'>\n",
       "\"\"\"\n",
       "                            OLS Regression Results                            \n",
       "==============================================================================\n",
       "Dep. Variable:                   PLTR   R-squared:                       0.380\n",
       "Model:                            OLS   Adj. R-squared:                  0.353\n",
       "Method:                 Least Squares   F-statistic:                     14.07\n",
       "Date:                Sun, 13 Apr 2025   Prob (F-statistic):            0.00104\n",
       "Time:                        20:54:36   Log-Likelihood:                -13.340\n",
       "No. Observations:                  25   AIC:                             30.68\n",
       "Df Residuals:                      23   BIC:                             33.12\n",
       "Df Model:                           1                                         \n",
       "Covariance Type:            nonrobust                                         \n",
       "==============================================================================\n",
       "                 coef    std err          t      P>|t|      [0.025      0.975]\n",
       "------------------------------------------------------------------------------\n",
       "const          9.3126      0.167     55.758      0.000       8.967       9.658\n",
       "x1             0.0448      0.012      3.751      0.001       0.020       0.069\n",
       "==============================================================================\n",
       "Omnibus:                        1.136   Durbin-Watson:                   0.835\n",
       "Prob(Omnibus):                  0.567   Jarque-Bera (JB):                0.838\n",
       "Skew:                          -0.033   Prob(JB):                        0.658\n",
       "Kurtosis:                       2.106   Cond. No.                         27.3\n",
       "==============================================================================\n",
       "\n",
       "Notes:\n",
       "[1] Standard Errors assume that the covariance matrix of the errors is correctly specified.\n",
       "\"\"\""
      ]
     },
     "execution_count": 26,
     "metadata": {},
     "output_type": "execute_result"
    }
   ],
   "source": [
    "model_.summary()"
   ]
  },
  {
   "cell_type": "markdown",
   "id": "b2d403a2",
   "metadata": {},
   "source": [
    "Now we can start making predictions.\n",
    "\n",
    "We will make predictions on the last row 24."
   ]
  },
  {
   "cell_type": "code",
   "execution_count": 30,
   "id": "e57c9601",
   "metadata": {},
   "outputs": [
    {
     "data": {
      "text/plain": [
       "10.38665"
      ]
     },
     "execution_count": 30,
     "metadata": {},
     "output_type": "execute_result"
    }
   ],
   "source": [
    "# m * x + b\n",
    "9.312554 +24 * 0.044754"
   ]
  },
  {
   "cell_type": "code",
   "execution_count": 31,
   "id": "373166c9",
   "metadata": {},
   "outputs": [
    {
     "data": {
      "text/plain": [
       "array([ 9.31255377,  9.35730762,  9.40206148,  9.44681533,  9.49156918,\n",
       "        9.53632303,  9.58107688,  9.62583073,  9.67058458,  9.71533844,\n",
       "        9.76009229,  9.80484614,  9.84959999,  9.89435384,  9.93910769,\n",
       "        9.98386155, 10.0286154 , 10.07336925, 10.1181231 , 10.16287695,\n",
       "       10.2076308 , 10.25238465, 10.29713851, 10.34189236, 10.38664621])"
      ]
     },
     "execution_count": 31,
     "metadata": {},
     "output_type": "execute_result"
    }
   ],
   "source": [
    "model_.predict()"
   ]
  },
  {
   "cell_type": "markdown",
   "id": "2ed6f65a",
   "metadata": {},
   "source": [
    "As we can see 10.38665 is the last value from the data."
   ]
  },
  {
   "cell_type": "markdown",
   "metadata": {},
   "source": [
    "We are now going to slice the dataset and every time we slice the dataset by we will increment the value by 1 at the end. for example 2020-11-03\t10.50\n",
    "was our last value in y_ but now we will move forward work with a larger dataset and apply the least_square_ma."
   ]
  },
  {
   "cell_type": "code",
   "execution_count": 33,
   "id": "33f3e4c5",
   "metadata": {},
   "outputs": [],
   "source": [
    "# \n",
    "lsma_arr = []\n",
    "dates_arr = []\n",
    "\n",
    "for i in range(len(data)-24):\n",
    "    input_reg = data[i:25+i]\n",
    "    X = pd.Series(range(len(input_reg.index))).values\n",
    "    y =input_reg['Close']\n",
    "    model = sm.OLS(y, sm.add_constant(X)).fit()\n",
    "    pred = model.predict()[-1]\n",
    "    lsma_arr.append(pred)\n",
    "    dates_arr.append(input_reg.iloc[-1].name)\n"
   ]
  },
  {
   "cell_type": "code",
   "execution_count": 36,
   "id": "9bc742d1",
   "metadata": {},
   "outputs": [
    {
     "data": {
      "text/html": [
       "<div>\n",
       "<style scoped>\n",
       "    .dataframe tbody tr th:only-of-type {\n",
       "        vertical-align: middle;\n",
       "    }\n",
       "\n",
       "    .dataframe tbody tr th {\n",
       "        vertical-align: top;\n",
       "    }\n",
       "\n",
       "    .dataframe thead th {\n",
       "        text-align: right;\n",
       "    }\n",
       "</style>\n",
       "<table border=\"1\" class=\"dataframe\">\n",
       "  <thead>\n",
       "    <tr style=\"text-align: right;\">\n",
       "      <th></th>\n",
       "      <th>LSMA</th>\n",
       "    </tr>\n",
       "  </thead>\n",
       "  <tbody>\n",
       "    <tr>\n",
       "      <th>2020-11-03</th>\n",
       "      <td>10.386646</td>\n",
       "    </tr>\n",
       "    <tr>\n",
       "      <th>2020-11-04</th>\n",
       "      <td>10.489908</td>\n",
       "    </tr>\n",
       "    <tr>\n",
       "      <th>2020-11-05</th>\n",
       "      <td>10.753600</td>\n",
       "    </tr>\n",
       "    <tr>\n",
       "      <th>2020-11-06</th>\n",
       "      <td>11.268154</td>\n",
       "    </tr>\n",
       "    <tr>\n",
       "      <th>2020-11-09</th>\n",
       "      <td>11.853015</td>\n",
       "    </tr>\n",
       "    <tr>\n",
       "      <th>...</th>\n",
       "      <td>...</td>\n",
       "    </tr>\n",
       "    <tr>\n",
       "      <th>2025-04-07</th>\n",
       "      <td>85.843599</td>\n",
       "    </tr>\n",
       "    <tr>\n",
       "      <th>2025-04-08</th>\n",
       "      <td>84.564030</td>\n",
       "    </tr>\n",
       "    <tr>\n",
       "      <th>2025-04-09</th>\n",
       "      <td>86.023014</td>\n",
       "    </tr>\n",
       "    <tr>\n",
       "      <th>2025-04-10</th>\n",
       "      <td>86.175414</td>\n",
       "    </tr>\n",
       "    <tr>\n",
       "      <th>2025-04-11</th>\n",
       "      <td>86.602738</td>\n",
       "    </tr>\n",
       "  </tbody>\n",
       "</table>\n",
       "<p>1115 rows × 1 columns</p>\n",
       "</div>"
      ],
      "text/plain": [
       "                 LSMA\n",
       "2020-11-03  10.386646\n",
       "2020-11-04  10.489908\n",
       "2020-11-05  10.753600\n",
       "2020-11-06  11.268154\n",
       "2020-11-09  11.853015\n",
       "...               ...\n",
       "2025-04-07  85.843599\n",
       "2025-04-08  84.564030\n",
       "2025-04-09  86.023014\n",
       "2025-04-10  86.175414\n",
       "2025-04-11  86.602738\n",
       "\n",
       "[1115 rows x 1 columns]"
      ]
     },
     "execution_count": 36,
     "metadata": {},
     "output_type": "execute_result"
    }
   ],
   "source": [
    "lsma_df = pd.DataFrame({'LSMA': lsma_arr}, index=dates_arr)\n",
    "lsma_df"
   ]
  },
  {
   "cell_type": "code",
   "execution_count": null,
   "id": "ed8b4ff2",
   "metadata": {},
   "outputs": [
    {
     "data": {
      "text/plain": [
       "Index([ ('Close', 'PLTR'),   ('High', 'PLTR'),    ('Low', 'PLTR'),\n",
       "         ('Open', 'PLTR'), ('Volume', 'PLTR'),             'LSMA'],\n",
       "      dtype='object')"
      ]
     },
     "execution_count": 38,
     "metadata": {},
     "output_type": "execute_result"
    }
   ],
   "source": [
    "# Merging the dataframes\n",
    "all_df = pd.concat([data, lsma_df], axis=1)\n",
    "all_df"
   ]
  },
  {
   "cell_type": "code",
   "execution_count": null,
   "id": "d5644f80",
   "metadata": {},
   "outputs": [],
   "source": [
    "# Dropping the NaN values\n",
    "all_df.dropna(inplace=True)"
   ]
  },
  {
   "cell_type": "code",
   "execution_count": 40,
   "id": "d2f84a3d",
   "metadata": {},
   "outputs": [
    {
     "data": {
      "text/html": [
       "<div>\n",
       "<style scoped>\n",
       "    .dataframe tbody tr th:only-of-type {\n",
       "        vertical-align: middle;\n",
       "    }\n",
       "\n",
       "    .dataframe tbody tr th {\n",
       "        vertical-align: top;\n",
       "    }\n",
       "\n",
       "    .dataframe thead th {\n",
       "        text-align: right;\n",
       "    }\n",
       "</style>\n",
       "<table border=\"1\" class=\"dataframe\">\n",
       "  <thead>\n",
       "    <tr style=\"text-align: right;\">\n",
       "      <th></th>\n",
       "      <th>(Close, PLTR)</th>\n",
       "      <th>(High, PLTR)</th>\n",
       "      <th>(Low, PLTR)</th>\n",
       "      <th>(Open, PLTR)</th>\n",
       "      <th>(Volume, PLTR)</th>\n",
       "      <th>LSMA</th>\n",
       "    </tr>\n",
       "  </thead>\n",
       "  <tbody>\n",
       "    <tr>\n",
       "      <th>2020-11-03</th>\n",
       "      <td>10.500000</td>\n",
       "      <td>10.940000</td>\n",
       "      <td>10.440000</td>\n",
       "      <td>10.570000</td>\n",
       "      <td>21652800</td>\n",
       "      <td>10.386646</td>\n",
       "    </tr>\n",
       "    <tr>\n",
       "      <th>2020-11-04</th>\n",
       "      <td>10.720000</td>\n",
       "      <td>10.920000</td>\n",
       "      <td>10.550000</td>\n",
       "      <td>10.820000</td>\n",
       "      <td>15783400</td>\n",
       "      <td>10.489908</td>\n",
       "    </tr>\n",
       "    <tr>\n",
       "      <th>2020-11-05</th>\n",
       "      <td>11.880000</td>\n",
       "      <td>12.130000</td>\n",
       "      <td>10.850000</td>\n",
       "      <td>10.900000</td>\n",
       "      <td>48560400</td>\n",
       "      <td>10.753600</td>\n",
       "    </tr>\n",
       "    <tr>\n",
       "      <th>2020-11-06</th>\n",
       "      <td>13.830000</td>\n",
       "      <td>14.960000</td>\n",
       "      <td>12.050000</td>\n",
       "      <td>12.220000</td>\n",
       "      <td>89977600</td>\n",
       "      <td>11.268154</td>\n",
       "    </tr>\n",
       "    <tr>\n",
       "      <th>2020-11-09</th>\n",
       "      <td>14.670000</td>\n",
       "      <td>15.900000</td>\n",
       "      <td>14.110000</td>\n",
       "      <td>14.960000</td>\n",
       "      <td>60099000</td>\n",
       "      <td>11.853015</td>\n",
       "    </tr>\n",
       "    <tr>\n",
       "      <th>...</th>\n",
       "      <td>...</td>\n",
       "      <td>...</td>\n",
       "      <td>...</td>\n",
       "      <td>...</td>\n",
       "      <td>...</td>\n",
       "      <td>...</td>\n",
       "    </tr>\n",
       "    <tr>\n",
       "      <th>2025-04-07</th>\n",
       "      <td>77.839996</td>\n",
       "      <td>81.800003</td>\n",
       "      <td>66.120003</td>\n",
       "      <td>66.650002</td>\n",
       "      <td>169083700</td>\n",
       "      <td>85.843599</td>\n",
       "    </tr>\n",
       "    <tr>\n",
       "      <th>2025-04-08</th>\n",
       "      <td>77.320000</td>\n",
       "      <td>86.113998</td>\n",
       "      <td>75.220001</td>\n",
       "      <td>83.290001</td>\n",
       "      <td>135345600</td>\n",
       "      <td>84.564030</td>\n",
       "    </tr>\n",
       "    <tr>\n",
       "      <th>2025-04-09</th>\n",
       "      <td>92.010002</td>\n",
       "      <td>93.330002</td>\n",
       "      <td>77.269997</td>\n",
       "      <td>78.190002</td>\n",
       "      <td>187244300</td>\n",
       "      <td>86.023014</td>\n",
       "    </tr>\n",
       "    <tr>\n",
       "      <th>2025-04-10</th>\n",
       "      <td>88.589996</td>\n",
       "      <td>90.779999</td>\n",
       "      <td>84.139999</td>\n",
       "      <td>88.400002</td>\n",
       "      <td>124448200</td>\n",
       "      <td>86.175414</td>\n",
       "    </tr>\n",
       "    <tr>\n",
       "      <th>2025-04-11</th>\n",
       "      <td>88.550003</td>\n",
       "      <td>89.550003</td>\n",
       "      <td>85.470001</td>\n",
       "      <td>87.980003</td>\n",
       "      <td>94992700</td>\n",
       "      <td>86.602738</td>\n",
       "    </tr>\n",
       "  </tbody>\n",
       "</table>\n",
       "<p>1115 rows × 6 columns</p>\n",
       "</div>"
      ],
      "text/plain": [
       "            (Close, PLTR)  (High, PLTR)  (Low, PLTR)  (Open, PLTR)  \\\n",
       "2020-11-03      10.500000     10.940000    10.440000     10.570000   \n",
       "2020-11-04      10.720000     10.920000    10.550000     10.820000   \n",
       "2020-11-05      11.880000     12.130000    10.850000     10.900000   \n",
       "2020-11-06      13.830000     14.960000    12.050000     12.220000   \n",
       "2020-11-09      14.670000     15.900000    14.110000     14.960000   \n",
       "...                   ...           ...          ...           ...   \n",
       "2025-04-07      77.839996     81.800003    66.120003     66.650002   \n",
       "2025-04-08      77.320000     86.113998    75.220001     83.290001   \n",
       "2025-04-09      92.010002     93.330002    77.269997     78.190002   \n",
       "2025-04-10      88.589996     90.779999    84.139999     88.400002   \n",
       "2025-04-11      88.550003     89.550003    85.470001     87.980003   \n",
       "\n",
       "            (Volume, PLTR)       LSMA  \n",
       "2020-11-03        21652800  10.386646  \n",
       "2020-11-04        15783400  10.489908  \n",
       "2020-11-05        48560400  10.753600  \n",
       "2020-11-06        89977600  11.268154  \n",
       "2020-11-09        60099000  11.853015  \n",
       "...                    ...        ...  \n",
       "2025-04-07       169083700  85.843599  \n",
       "2025-04-08       135345600  84.564030  \n",
       "2025-04-09       187244300  86.023014  \n",
       "2025-04-10       124448200  86.175414  \n",
       "2025-04-11        94992700  86.602738  \n",
       "\n",
       "[1115 rows x 6 columns]"
      ]
     },
     "execution_count": 40,
     "metadata": {},
     "output_type": "execute_result"
    }
   ],
   "source": [
    "all_df"
   ]
  },
  {
   "cell_type": "code",
   "execution_count": 43,
   "id": "76852d37",
   "metadata": {},
   "outputs": [],
   "source": [
    "# Creating the buy and sell signals\n",
    "all_df['Signal_buy'] = all_df[('Close', 'PLTR')] < all_df['LSMA']\n",
    "all_df['Signal_sell'] = all_df[('Close', 'PLTR')] > all_df['LSMA']\n"
   ]
  },
  {
   "cell_type": "code",
   "execution_count": 45,
   "id": "adff8055",
   "metadata": {},
   "outputs": [
    {
     "data": {
      "text/html": [
       "<div>\n",
       "<style scoped>\n",
       "    .dataframe tbody tr th:only-of-type {\n",
       "        vertical-align: middle;\n",
       "    }\n",
       "\n",
       "    .dataframe tbody tr th {\n",
       "        vertical-align: top;\n",
       "    }\n",
       "\n",
       "    .dataframe thead th {\n",
       "        text-align: right;\n",
       "    }\n",
       "</style>\n",
       "<table border=\"1\" class=\"dataframe\">\n",
       "  <thead>\n",
       "    <tr style=\"text-align: right;\">\n",
       "      <th></th>\n",
       "      <th>(Close, PLTR)</th>\n",
       "      <th>(High, PLTR)</th>\n",
       "      <th>(Low, PLTR)</th>\n",
       "      <th>(Open, PLTR)</th>\n",
       "      <th>(Volume, PLTR)</th>\n",
       "      <th>LSMA</th>\n",
       "      <th>Signal_buy</th>\n",
       "      <th>Signal_sell</th>\n",
       "      <th>Open_shift</th>\n",
       "    </tr>\n",
       "  </thead>\n",
       "  <tbody>\n",
       "    <tr>\n",
       "      <th>2020-11-03</th>\n",
       "      <td>10.500000</td>\n",
       "      <td>10.940000</td>\n",
       "      <td>10.440000</td>\n",
       "      <td>10.570000</td>\n",
       "      <td>21652800</td>\n",
       "      <td>10.386646</td>\n",
       "      <td>False</td>\n",
       "      <td>True</td>\n",
       "      <td>10.820000</td>\n",
       "    </tr>\n",
       "    <tr>\n",
       "      <th>2020-11-04</th>\n",
       "      <td>10.720000</td>\n",
       "      <td>10.920000</td>\n",
       "      <td>10.550000</td>\n",
       "      <td>10.820000</td>\n",
       "      <td>15783400</td>\n",
       "      <td>10.489908</td>\n",
       "      <td>False</td>\n",
       "      <td>True</td>\n",
       "      <td>10.900000</td>\n",
       "    </tr>\n",
       "    <tr>\n",
       "      <th>2020-11-05</th>\n",
       "      <td>11.880000</td>\n",
       "      <td>12.130000</td>\n",
       "      <td>10.850000</td>\n",
       "      <td>10.900000</td>\n",
       "      <td>48560400</td>\n",
       "      <td>10.753600</td>\n",
       "      <td>False</td>\n",
       "      <td>True</td>\n",
       "      <td>12.220000</td>\n",
       "    </tr>\n",
       "    <tr>\n",
       "      <th>2020-11-06</th>\n",
       "      <td>13.830000</td>\n",
       "      <td>14.960000</td>\n",
       "      <td>12.050000</td>\n",
       "      <td>12.220000</td>\n",
       "      <td>89977600</td>\n",
       "      <td>11.268154</td>\n",
       "      <td>False</td>\n",
       "      <td>True</td>\n",
       "      <td>14.960000</td>\n",
       "    </tr>\n",
       "    <tr>\n",
       "      <th>2020-11-09</th>\n",
       "      <td>14.670000</td>\n",
       "      <td>15.900000</td>\n",
       "      <td>14.110000</td>\n",
       "      <td>14.960000</td>\n",
       "      <td>60099000</td>\n",
       "      <td>11.853015</td>\n",
       "      <td>False</td>\n",
       "      <td>True</td>\n",
       "      <td>14.990000</td>\n",
       "    </tr>\n",
       "    <tr>\n",
       "      <th>...</th>\n",
       "      <td>...</td>\n",
       "      <td>...</td>\n",
       "      <td>...</td>\n",
       "      <td>...</td>\n",
       "      <td>...</td>\n",
       "      <td>...</td>\n",
       "      <td>...</td>\n",
       "      <td>...</td>\n",
       "      <td>...</td>\n",
       "    </tr>\n",
       "    <tr>\n",
       "      <th>2025-04-07</th>\n",
       "      <td>77.839996</td>\n",
       "      <td>81.800003</td>\n",
       "      <td>66.120003</td>\n",
       "      <td>66.650002</td>\n",
       "      <td>169083700</td>\n",
       "      <td>85.843599</td>\n",
       "      <td>True</td>\n",
       "      <td>False</td>\n",
       "      <td>83.290001</td>\n",
       "    </tr>\n",
       "    <tr>\n",
       "      <th>2025-04-08</th>\n",
       "      <td>77.320000</td>\n",
       "      <td>86.113998</td>\n",
       "      <td>75.220001</td>\n",
       "      <td>83.290001</td>\n",
       "      <td>135345600</td>\n",
       "      <td>84.564030</td>\n",
       "      <td>True</td>\n",
       "      <td>False</td>\n",
       "      <td>78.190002</td>\n",
       "    </tr>\n",
       "    <tr>\n",
       "      <th>2025-04-09</th>\n",
       "      <td>92.010002</td>\n",
       "      <td>93.330002</td>\n",
       "      <td>77.269997</td>\n",
       "      <td>78.190002</td>\n",
       "      <td>187244300</td>\n",
       "      <td>86.023014</td>\n",
       "      <td>False</td>\n",
       "      <td>True</td>\n",
       "      <td>88.400002</td>\n",
       "    </tr>\n",
       "    <tr>\n",
       "      <th>2025-04-10</th>\n",
       "      <td>88.589996</td>\n",
       "      <td>90.779999</td>\n",
       "      <td>84.139999</td>\n",
       "      <td>88.400002</td>\n",
       "      <td>124448200</td>\n",
       "      <td>86.175414</td>\n",
       "      <td>False</td>\n",
       "      <td>True</td>\n",
       "      <td>87.980003</td>\n",
       "    </tr>\n",
       "    <tr>\n",
       "      <th>2025-04-11</th>\n",
       "      <td>88.550003</td>\n",
       "      <td>89.550003</td>\n",
       "      <td>85.470001</td>\n",
       "      <td>87.980003</td>\n",
       "      <td>94992700</td>\n",
       "      <td>86.602738</td>\n",
       "      <td>False</td>\n",
       "      <td>True</td>\n",
       "      <td>NaN</td>\n",
       "    </tr>\n",
       "  </tbody>\n",
       "</table>\n",
       "<p>1115 rows × 9 columns</p>\n",
       "</div>"
      ],
      "text/plain": [
       "            (Close, PLTR)  (High, PLTR)  (Low, PLTR)  (Open, PLTR)  \\\n",
       "2020-11-03      10.500000     10.940000    10.440000     10.570000   \n",
       "2020-11-04      10.720000     10.920000    10.550000     10.820000   \n",
       "2020-11-05      11.880000     12.130000    10.850000     10.900000   \n",
       "2020-11-06      13.830000     14.960000    12.050000     12.220000   \n",
       "2020-11-09      14.670000     15.900000    14.110000     14.960000   \n",
       "...                   ...           ...          ...           ...   \n",
       "2025-04-07      77.839996     81.800003    66.120003     66.650002   \n",
       "2025-04-08      77.320000     86.113998    75.220001     83.290001   \n",
       "2025-04-09      92.010002     93.330002    77.269997     78.190002   \n",
       "2025-04-10      88.589996     90.779999    84.139999     88.400002   \n",
       "2025-04-11      88.550003     89.550003    85.470001     87.980003   \n",
       "\n",
       "            (Volume, PLTR)       LSMA  Signal_buy  Signal_sell  Open_shift  \n",
       "2020-11-03        21652800  10.386646       False         True   10.820000  \n",
       "2020-11-04        15783400  10.489908       False         True   10.900000  \n",
       "2020-11-05        48560400  10.753600       False         True   12.220000  \n",
       "2020-11-06        89977600  11.268154       False         True   14.960000  \n",
       "2020-11-09        60099000  11.853015       False         True   14.990000  \n",
       "...                    ...        ...         ...          ...         ...  \n",
       "2025-04-07       169083700  85.843599        True        False   83.290001  \n",
       "2025-04-08       135345600  84.564030        True        False   78.190002  \n",
       "2025-04-09       187244300  86.023014       False         True   88.400002  \n",
       "2025-04-10       124448200  86.175414       False         True   87.980003  \n",
       "2025-04-11        94992700  86.602738       False         True         NaN  \n",
       "\n",
       "[1115 rows x 9 columns]"
      ]
     },
     "execution_count": 45,
     "metadata": {},
     "output_type": "execute_result"
    }
   ],
   "source": [
    "# Shifting the open column for better signal implementation\n",
    "all_df['Open_shift'] = all_df[('Open', 'PLTR')].shift(-1)\n",
    "\n",
    "all_df"
   ]
  },
  {
   "cell_type": "code",
   "execution_count": 50,
   "id": "024c0987",
   "metadata": {},
   "outputs": [],
   "source": [
    "in_position = False\n",
    "\n",
    "buydates, selldates = [], []\n",
    "buyprices, sellprices = [], []\n",
    "\n",
    "for index, row in all_df.iterrows():\n",
    "    if not in_position and row.Signal_buy== True:\n",
    "        buyprice = row.Open_shift\n",
    "        buyprices.append(buyprice)\n",
    "        buydates.append(index)\n",
    "        in_position = True\n",
    "\n",
    "    if in_position and row['Signal_sell'] == True:\n",
    "        sellprice = row.Open_shift\n",
    "        sellprices.append(sellprice)\n",
    "        selldates.append(index)\n",
    "        in_position = False "
   ]
  },
  {
   "cell_type": "code",
   "execution_count": 56,
   "id": "4f87b463",
   "metadata": {},
   "outputs": [],
   "source": [
    "# Calculating profits\n",
    "profits = pd.Series([(sell - buy)/ buy for sell, buy in zip(sellprices, buyprices)])"
   ]
  },
  {
   "cell_type": "code",
   "execution_count": 57,
   "id": "a00dcbfc",
   "metadata": {},
   "outputs": [
    {
     "data": {
      "text/plain": [
       "1.2277444496397132"
      ]
     },
     "execution_count": 57,
     "metadata": {},
     "output_type": "execute_result"
    }
   ],
   "source": [
    "# Accumulating profits\n",
    "(profits+1).prod()"
   ]
  },
  {
   "cell_type": "markdown",
   "id": "5efcbffc",
   "metadata": {},
   "source": [
    "22% profit currently"
   ]
  },
  {
   "cell_type": "code",
   "execution_count": 59,
   "id": "cd995823",
   "metadata": {},
   "outputs": [
    {
     "data": {
      "image/png": "[encoded data removed]",
      "text/plain": [
       "<Figure size 1500x800 with 1 Axes>"
      ]
     },
     "metadata": {},
     "output_type": "display_data"
    }
   ],
   "source": [
    "# Let's visuzlise the results\n",
    "plt.figure(figsize=(15, 8))\n",
    "plt.plot(all_df[[('Open', 'PLTR'), 'LSMA']]) # We are using Open column since we are buying on Open price\n",
    "plt.scatter(buydates, all_df.loc[buydates].Open_shift, marker='^', color='g', label='Buy Signal', s=100)\n",
    "plt.scatter(selldates, all_df.loc[selldates].Open_shift, marker='v', color='r', label='Sell Signal', s=100)\n",
    "plt.show()"
   ]
  },
  {
   "cell_type": "code",
   "execution_count": 60,
   "id": "e1215b6d",
   "metadata": {},
   "outputs": [
    {
     "data": {
      "text/plain": [
       "True     52\n",
       "False    27\n",
       "Name: count, dtype: int64"
      ]
     },
     "execution_count": 60,
     "metadata": {},
     "output_type": "execute_result"
    }
   ],
   "source": [
    "(profits > 0).value_counts()"
   ]
  },
  {
   "cell_type": "code",
   "execution_count": 62,
   "id": "46430f28",
   "metadata": {},
   "outputs": [
    {
     "data": {
      "text/plain": [
       "0.6582278481012658"
      ]
     },
     "execution_count": 62,
     "metadata": {},
     "output_type": "execute_result"
    }
   ],
   "source": [
    "# Lets count the win rate\n",
    "win_rate = 52/(52+27)\n",
    "win_rate"
   ]
  },
  {
   "cell_type": "markdown",
   "id": "ca4e3b4d",
   "metadata": {},
   "source": [
    "### Summary"
   ]
  },
  {
   "cell_type": "markdown",
   "id": "6ff122cb",
   "metadata": {},
   "source": []
  }
 ],
 "metadata": {
  "kernelspec": {
   "display_name": "Python 3",
   "language": "python",
   "name": "python3"
  },
  "language_info": {
   "codemirror_mode": {
    "name": "ipython",
    "version": 3
   },
   "file_extension": ".py",
   "mimetype": "text/x-python",
   "name": "python",
   "nbconvert_exporter": "python",
   "pygments_lexer": "ipython3",
   "version": "3.12.3"
  }
 },
 "nbformat": 4,
 "nbformat_minor": 5
}
