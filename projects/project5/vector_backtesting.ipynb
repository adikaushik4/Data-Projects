{
 "cells": [
  {
   "cell_type": "code",
   "execution_count": 1,
   "id": "d7d7042b",
   "metadata": {},
   "outputs": [],
   "source": [
    "# importing libnaries\n",
    "import yfinance as yf\n",
    "import numpy as np\n",
    "import pandas as pd\n"
   ]
  },
  {
   "cell_type": "code",
   "execution_count": 2,
   "id": "17218fc0",
   "metadata": {},
   "outputs": [],
   "source": [
    "tickers = pd.read_html('https://en.wikipedia.org/wiki/List_of_S%26P_500_companies')[0].Symbol.tolist()"
   ]
  },
  {
   "cell_type": "code",
   "execution_count": 3,
   "id": "37ef0d13",
   "metadata": {},
   "outputs": [
    {
     "name": "stderr",
     "output_type": "stream",
     "text": [
      "[*********************100%***********************]  503 of 503 completed\n",
      "\n",
      "2 Failed downloads:\n",
      "['BF.B']: YFPricesMissingError('possibly delisted; no price data found  (1d 2015-01-01 -> 2025-04-14)')\n",
      "['BRK.B']: YFTzMissingError('possibly delisted; no timezone found')\n"
     ]
    }
   ],
   "source": [
    "price_df = yf.download(tickers, start = '2015-01-01', auto_adjust=False)"
   ]
  },
  {
   "cell_type": "code",
   "execution_count": 17,
   "id": "58ae3da2",
   "metadata": {},
   "outputs": [
    {
     "data": {
      "text/html": [
       "<div>\n",
       "<style scoped>\n",
       "    .dataframe tbody tr th:only-of-type {\n",
       "        vertical-align: middle;\n",
       "    }\n",
       "\n",
       "    .dataframe tbody tr th {\n",
       "        vertical-align: top;\n",
       "    }\n",
       "\n",
       "    .dataframe thead tr th {\n",
       "        text-align: left;\n",
       "    }\n",
       "\n",
       "    .dataframe thead tr:last-of-type th {\n",
       "        text-align: right;\n",
       "    }\n",
       "</style>\n",
       "<table border=\"1\" class=\"dataframe\">\n",
       "  <thead>\n",
       "    <tr>\n",
       "      <th>Price</th>\n",
       "      <th>Adj Close</th>\n",
       "      <th>Close</th>\n",
       "      <th>High</th>\n",
       "      <th>Low</th>\n",
       "      <th>Open</th>\n",
       "      <th>Volume</th>\n",
       "    </tr>\n",
       "    <tr>\n",
       "      <th>Ticker</th>\n",
       "      <th>NVDA</th>\n",
       "      <th>NVDA</th>\n",
       "      <th>NVDA</th>\n",
       "      <th>NVDA</th>\n",
       "      <th>NVDA</th>\n",
       "      <th>NVDA</th>\n",
       "    </tr>\n",
       "    <tr>\n",
       "      <th>Date</th>\n",
       "      <th></th>\n",
       "      <th></th>\n",
       "      <th></th>\n",
       "      <th></th>\n",
       "      <th></th>\n",
       "      <th></th>\n",
       "    </tr>\n",
       "  </thead>\n",
       "  <tbody>\n",
       "    <tr>\n",
       "      <th>2015-01-02</th>\n",
       "      <td>0.483099</td>\n",
       "      <td>0.503250</td>\n",
       "      <td>0.507000</td>\n",
       "      <td>0.495250</td>\n",
       "      <td>0.503250</td>\n",
       "      <td>113680000</td>\n",
       "    </tr>\n",
       "    <tr>\n",
       "      <th>2015-01-05</th>\n",
       "      <td>0.474939</td>\n",
       "      <td>0.494750</td>\n",
       "      <td>0.504750</td>\n",
       "      <td>0.492500</td>\n",
       "      <td>0.503250</td>\n",
       "      <td>197952000</td>\n",
       "    </tr>\n",
       "    <tr>\n",
       "      <th>2015-01-06</th>\n",
       "      <td>0.460540</td>\n",
       "      <td>0.479750</td>\n",
       "      <td>0.496000</td>\n",
       "      <td>0.479250</td>\n",
       "      <td>0.495500</td>\n",
       "      <td>197764000</td>\n",
       "    </tr>\n",
       "    <tr>\n",
       "      <th>2015-01-07</th>\n",
       "      <td>0.459340</td>\n",
       "      <td>0.478500</td>\n",
       "      <td>0.487500</td>\n",
       "      <td>0.477000</td>\n",
       "      <td>0.483250</td>\n",
       "      <td>321808000</td>\n",
       "    </tr>\n",
       "    <tr>\n",
       "      <th>2015-01-08</th>\n",
       "      <td>0.476619</td>\n",
       "      <td>0.496500</td>\n",
       "      <td>0.499500</td>\n",
       "      <td>0.483750</td>\n",
       "      <td>0.484000</td>\n",
       "      <td>283780000</td>\n",
       "    </tr>\n",
       "    <tr>\n",
       "      <th>...</th>\n",
       "      <td>...</td>\n",
       "      <td>...</td>\n",
       "      <td>...</td>\n",
       "      <td>...</td>\n",
       "      <td>...</td>\n",
       "      <td>...</td>\n",
       "    </tr>\n",
       "    <tr>\n",
       "      <th>2025-04-08</th>\n",
       "      <td>96.300003</td>\n",
       "      <td>96.300003</td>\n",
       "      <td>105.849998</td>\n",
       "      <td>94.459999</td>\n",
       "      <td>103.809998</td>\n",
       "      <td>476243400</td>\n",
       "    </tr>\n",
       "    <tr>\n",
       "      <th>2025-04-09</th>\n",
       "      <td>114.330002</td>\n",
       "      <td>114.330002</td>\n",
       "      <td>115.099998</td>\n",
       "      <td>97.529999</td>\n",
       "      <td>98.889999</td>\n",
       "      <td>612918300</td>\n",
       "    </tr>\n",
       "    <tr>\n",
       "      <th>2025-04-10</th>\n",
       "      <td>107.570000</td>\n",
       "      <td>107.570000</td>\n",
       "      <td>110.860001</td>\n",
       "      <td>99.150002</td>\n",
       "      <td>109.370003</td>\n",
       "      <td>437812400</td>\n",
       "    </tr>\n",
       "    <tr>\n",
       "      <th>2025-04-11</th>\n",
       "      <td>110.930000</td>\n",
       "      <td>110.930000</td>\n",
       "      <td>111.550003</td>\n",
       "      <td>107.480003</td>\n",
       "      <td>108.500000</td>\n",
       "      <td>312853800</td>\n",
       "    </tr>\n",
       "    <tr>\n",
       "      <th>2025-04-14</th>\n",
       "      <td>111.635002</td>\n",
       "      <td>111.635002</td>\n",
       "      <td>114.290001</td>\n",
       "      <td>111.380096</td>\n",
       "      <td>114.139999</td>\n",
       "      <td>44183121</td>\n",
       "    </tr>\n",
       "  </tbody>\n",
       "</table>\n",
       "<p>2586 rows × 6 columns</p>\n",
       "</div>"
      ],
      "text/plain": [
       "Price        Adj Close       Close        High         Low        Open  \\\n",
       "Ticker            NVDA        NVDA        NVDA        NVDA        NVDA   \n",
       "Date                                                                     \n",
       "2015-01-02    0.483099    0.503250    0.507000    0.495250    0.503250   \n",
       "2015-01-05    0.474939    0.494750    0.504750    0.492500    0.503250   \n",
       "2015-01-06    0.460540    0.479750    0.496000    0.479250    0.495500   \n",
       "2015-01-07    0.459340    0.478500    0.487500    0.477000    0.483250   \n",
       "2015-01-08    0.476619    0.496500    0.499500    0.483750    0.484000   \n",
       "...                ...         ...         ...         ...         ...   \n",
       "2025-04-08   96.300003   96.300003  105.849998   94.459999  103.809998   \n",
       "2025-04-09  114.330002  114.330002  115.099998   97.529999   98.889999   \n",
       "2025-04-10  107.570000  107.570000  110.860001   99.150002  109.370003   \n",
       "2025-04-11  110.930000  110.930000  111.550003  107.480003  108.500000   \n",
       "2025-04-14  111.635002  111.635002  114.290001  111.380096  114.139999   \n",
       "\n",
       "Price          Volume  \n",
       "Ticker           NVDA  \n",
       "Date                   \n",
       "2015-01-02  113680000  \n",
       "2015-01-05  197952000  \n",
       "2015-01-06  197764000  \n",
       "2015-01-07  321808000  \n",
       "2015-01-08  283780000  \n",
       "...               ...  \n",
       "2025-04-08  476243400  \n",
       "2025-04-09  612918300  \n",
       "2025-04-10  437812400  \n",
       "2025-04-11  312853800  \n",
       "2025-04-14   44183121  \n",
       "\n",
       "[2586 rows x 6 columns]"
      ]
     },
     "execution_count": 17,
     "metadata": {},
     "output_type": "execute_result"
    }
   ],
   "source": [
    "price_df[price_df.columns[price_df.columns.get_level_values(1) == 'NVDA']]"
   ]
  },
  {
   "cell_type": "code",
   "execution_count": 18,
   "id": "0d9d451d",
   "metadata": {},
   "outputs": [],
   "source": [
    "# Creating the slicer function\n",
    "def slice_df(symbol):\n",
    "    sliced = price_df.copy()\n",
    "    sliced = sliced[sliced.columns[sliced.columns.get_level_values(1)== symbol]]\n",
    "    sliced.columns = sliced.columns.droplevel(1)\n",
    "    sliced.loc[:, 'price'] = sliced.Open.shift(-1)\n",
    "    return sliced"
   ]
  },
  {
   "cell_type": "code",
   "execution_count": 19,
   "id": "9ad5e056",
   "metadata": {},
   "outputs": [],
   "source": [
    "# Calling the function\n",
    "test = slice_df('AAPL')"
   ]
  },
  {
   "cell_type": "code",
   "execution_count": 20,
   "id": "6964b4f0",
   "metadata": {},
   "outputs": [],
   "source": [
    "# Creating the movaing average function\n",
    "def ma_calc(df, n, m): #n short term window, m long term window\n",
    "    df['sma_1'] = df.Close.rolling(n).mean()\n",
    "    df['sma_2'] = df.Close.rolling(m).mean()"
   ]
  },
  {
   "cell_type": "code",
   "execution_count": 32,
   "id": "79db18a8",
   "metadata": {},
   "outputs": [],
   "source": [
    "def backtest(df, n, m):\n",
    "    # Assume ma_calc adds 'sma_1' and 'sma_2' columns to df\n",
    "    ma_calc(df, n, m)\n",
    "\n",
    "    in_position = False\n",
    "    profits = []\n",
    "\n",
    "    for index, row in df.iterrows():\n",
    "        # Entry signal\n",
    "        if not in_position and row.sma_1 > row.sma_2:\n",
    "            buy_price = row.price\n",
    "            in_position = True\n",
    "\n",
    "        # Exit signal\n",
    "        elif in_position and row.sma_1 < row.sma_2:\n",
    "            sell_price = row.price\n",
    "            profit = (sell_price - buy_price) / buy_price\n",
    "            profits.append(profit)\n",
    "            in_position = False\n",
    "\n",
    "    # If still in a position at the end, you might want to close it:\n",
    "    if in_position:\n",
    "        sell_price = df.iloc[-1].price\n",
    "        profit = (sell_price - buy_price) / buy_price\n",
    "        profits.append(profit)\n",
    "\n",
    "    # Cumulative gain\n",
    "    gain = (pd.Series(profits) + 1).prod()\n",
    "    return gain\n"
   ]
  },
  {
   "cell_type": "code",
   "execution_count": 33,
   "id": "89ec31f3",
   "metadata": {},
   "outputs": [
    {
     "data": {
      "text/plain": [
       "1.97638878744181"
      ]
     },
     "execution_count": 33,
     "metadata": {},
     "output_type": "execute_result"
    }
   ],
   "source": [
    "backtest(test, 30,60)"
   ]
  },
  {
   "cell_type": "code",
   "execution_count": 34,
   "id": "d93fda01",
   "metadata": {},
   "outputs": [
    {
     "data": {
      "text/plain": [
       "Timestamp('2015-03-30 00:00:00')"
      ]
     },
     "execution_count": 34,
     "metadata": {},
     "output_type": "execute_result"
    }
   ],
   "source": [
    "(test.sma_1>test.sma_2).idxmax()"
   ]
  },
  {
   "cell_type": "code",
   "execution_count": 35,
   "id": "c3dfd7dc",
   "metadata": {},
   "outputs": [
    {
     "data": {
      "text/plain": [
       "array([False, False, False, ..., False, False, False])"
      ]
     },
     "execution_count": 35,
     "metadata": {},
     "output_type": "execute_result"
    }
   ],
   "source": [
    "test.index == (test.sma_1>test.sma_2).idxmax()"
   ]
  },
  {
   "cell_type": "code",
   "execution_count": 36,
   "id": "90c0e47e",
   "metadata": {},
   "outputs": [],
   "source": [
    "# Converting the index into pd series\n",
    "first_buy = pd.Series(test.index == (test.sma_1 > test.sma_2).idxmax(), index=test.index)"
   ]
  },
  {
   "cell_type": "code",
   "execution_count": null,
   "id": "404d2141",
   "metadata": {},
   "outputs": [
    {
     "data": {
      "text/plain": [
       "DatetimeIndex(['2015-01-02', '2015-01-05', '2015-01-06', '2015-01-07',\n",
       "               '2015-01-08'],\n",
       "              dtype='datetime64[ns]', name='Date', freq=None)"
      ]
     },
     "execution_count": 42,
     "metadata": {},
     "output_type": "execute_result"
    }
   ],
   "source": [
    "# true_signals = test[test == True].index[:5]\n",
    "# true_signals"
   ]
  },
  {
   "cell_type": "code",
   "execution_count": null,
   "id": "9942f5a2",
   "metadata": {},
   "outputs": [],
   "source": [
    "(test.sma_1 > test.sma_2)"
   ]
  }
 ],
 "metadata": {
  "kernelspec": {
   "display_name": "Python 3",
   "language": "python",
   "name": "python3"
  },
  "language_info": {
   "codemirror_mode": {
    "name": "ipython",
    "version": 3
   },
   "file_extension": ".py",
   "mimetype": "text/x-python",
   "name": "python",
   "nbconvert_exporter": "python",
   "pygments_lexer": "ipython3",
   "version": "3.12.3"
  }
 },
 "nbformat": 4,
 "nbformat_minor": 5
}
